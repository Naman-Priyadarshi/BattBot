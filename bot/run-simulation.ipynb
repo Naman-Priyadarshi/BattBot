{
 "metadata": {
  "language_info": {
   "codemirror_mode": {
    "name": "ipython",
    "version": 3
   },
   "file_extension": ".py",
   "mimetype": "text/x-python",
   "name": "python",
   "nbconvert_exporter": "python",
   "pygments_lexer": "ipython3",
   "version": "3.9.0"
  },
  "orig_nbformat": 2,
  "kernelspec": {
   "name": "python3",
   "display_name": "Python 3.9.0 64-bit",
   "metadata": {
    "interpreter": {
     "hash": "8e473b7b27fd32c4f175591765ae7218e26352aafc6eb4399ae3355663397de4"
    }
   }
  }
 },
 "nbformat": 4,
 "nbformat_minor": 2,
 "cells": [
  {
   "source": [
    "# Running the Tweeted Configurations\n",
    "\n",
    "This notebook runs the latest tweeted battery model configuration, and can also be modified and played with. The notebook requires no user input (unless you want to modify some stuff).\n",
    "\n",
    "Access this on Google Colab [here](https://colab.research.google.com/github/pybamm-team/BattBot/blob/main/bot/run-simulation.ipynb)."
   ],
   "cell_type": "markdown",
   "metadata": {}
  },
  {
   "cell_type": "code",
   "execution_count": 1,
   "metadata": {},
   "outputs": [
    {
     "output_type": "stream",
     "name": "stdout",
     "text": [
      "Note: you may need to restart the kernel to use updated packages.\n",
      "ERROR: Invalid requirement: '#'\n",
      "WARNING: You are using pip version 21.1.2; however, version 21.2.2 is available.\n",
      "You should consider upgrading via the 'c:\\users\\saransh\\saransh_softwares\\python_3.9\\python.exe -m pip install --upgrade pip' command.\n"
     ]
    }
   ],
   "source": [
    "%pip install git+https://github.com/pybamm-team/PyBaMM@develop -q  # install the develop branch of PyBaMM\n",
    "import os\n",
    "import pybamm\n",
    "import logging\n",
    "import requests\n",
    "import numpy as np\n",
    "import matplotlib.pyplot as plt\n",
    "\n",
    "\n",
    "# logging configs\n",
    "logging.basicConfig(level=logging.INFO)\n",
    "logger = logging.getLogger()\n",
    "logger.setLevel(logging.INFO)\n"
   ]
  },
  {
   "source": [
    "We start by opening config.txt, where the most recent tweeted configuration is stored. Next we read that data and convert it into a python dictionary."
   ],
   "cell_type": "markdown",
   "metadata": {}
  },
  {
   "cell_type": "code",
   "execution_count": 2,
   "metadata": {},
   "outputs": [
    {
     "output_type": "execute_result",
     "data": {
      "text/plain": [
       "{'model': '{0: <pybamm.models.full_battery_models.lithium_ion.spme.SPMe object at 0x0000021B29BAC3A0>}',\n",
       " 'model options': None,\n",
       " 'chemistry': {'chemistry': 'lithium_ion',\n",
       "  'cell': 'kokam_Marquis2019',\n",
       "  'negative electrode': 'graphite_mcmb2528_Marquis2019',\n",
       "  'separator': 'separator_Marquis2019',\n",
       "  'positive electrode': 'lico2_Marquis2019',\n",
       "  'electrolyte': 'lipf6_Marquis2019',\n",
       "  'experiment': '1C_discharge_from_full_Marquis2019',\n",
       "  'sei': 'example',\n",
       "  'citation': 'Marquis2019'},\n",
       " 'is_experiment': False,\n",
       " 'cycle': None,\n",
       " 'number': None,\n",
       " 'is_comparison': True,\n",
       " 'param_to_vary': 'Positive electrode exchange-current density [A.m-2]',\n",
       " 'varied_values': [1.44, 1.04, 1.53]}"
      ]
     },
     "metadata": {},
     "execution_count": 2
    }
   ],
   "source": [
    "# open the file and read the python dictionary for configurations\n",
    "# url = \"https://raw.githubusercontent.com/pybamm-team/BattBot/main/bot/config.txt\"\n",
    "# r = requests.get(url, allow_redirects=True)\n",
    "# open('config.txt', 'wb').write(r.content)\n",
    "f = open('config.txt', 'r')\n",
    "config = eval(f.read())\n",
    "\n",
    "# varied parameter values, you can play with them too\n",
    "param_values = config[\"varied_values\"]\n",
    "\n",
    "# extracting the models from \"config\" dictionary\n",
    "models = []\n",
    "if \"DFN\" in config[\"model\"]:\n",
    "    models.append(pybamm.lithium_ion.DFN(\n",
    "        options=config[\"model options\"]\n",
    "    ))\n",
    "if \"spm.SPM\" in config[\"model\"]:\n",
    "    models.append(pybamm.lithium_ion.SPM(\n",
    "        options=config[\"model options\"]\n",
    "    ))\n",
    "if \"spme.SPMe\" in config[\"model\"]:\n",
    "    models.append(pybamm.lithium_ion.SPMe(\n",
    "        options=config[\"model options\"]\n",
    "    ))\n",
    "\n",
    "# closing the file\n",
    "f.close()\n",
    "config\n",
    "# here you can update the config dictionary by doing something like this -\n",
    "# config.update({\n",
    "#   \"key\": value \n",
    "# })\n",
    "# the default dictionary which changes everytime a plot is tweeted is printed below"
   ]
  },
  {
   "cell_type": "code",
   "execution_count": 3,
   "metadata": {},
   "outputs": [],
   "source": [
    "# a class that scales functional parameters\n",
    "class FunctionLike:\n",
    "    \"Behaves like a function but saves fun and parameter\"\n",
    "\n",
    "    def __init__(self, fun, parameter):\n",
    "        self.fun = fun\n",
    "        self.parameter = parameter\n",
    "\n",
    "    def __call__(self, *args):\n",
    "        return self.parameter * self.fun(*args)\n",
    "\n",
    "    def __str__(self):\n",
    "        return str(self.parameter)"
   ]
  },
  {
   "source": [
    "The following cell is meant to plot summary variables, if they weren't tweeted in the latest tweet then you can skip this. (Note: running the cell won't make a difference if the last tweet was not about summary variables)"
   ],
   "cell_type": "markdown",
   "metadata": {}
  },
  {
   "cell_type": "code",
   "execution_count": 4,
   "metadata": {
    "tags": []
   },
   "outputs": [],
   "source": [
    "pybamm.set_logging_level(\"NOTICE\")\n",
    "\n",
    "# if summary variables were tweeted\n",
    "if config[\"is_experiment\"] and not config[\"is_comparison\"]:\n",
    "\n",
    "    # don't terminate early if Ai2020 parameter sets were used\n",
    "    if config[\"chemistry\"] == pybamm.parameter_sets.Ai2020:\n",
    "        experiment = pybamm.Experiment(\n",
    "            config[\"cycle\"] * config[\"number\"]\n",
    "        )\n",
    "    else:\n",
    "        experiment = pybamm.Experiment(\n",
    "            config[\"cycle\"] * config[\"number\"], termination=\"80% capacity\"\n",
    "        )\n",
    "\n",
    "    # defining parameter_values\n",
    "    parameter_values = pybamm.ParameterValues(chemistry=config[\"chemistry\"])\n",
    "\n",
    "    # simulating\n",
    "    sim = pybamm.Simulation(\n",
    "        model=models[0],\n",
    "        experiment=experiment,\n",
    "        parameter_values=parameter_values,\n",
    "        solver=pybamm.CasadiSolver(mode=\"safe\"),\n",
    "    )\n",
    "\n",
    "    # solving\n",
    "    if config[\"chemistry\"] == pybamm.parameter_sets.Ai2020:\n",
    "        sim.solve(calc_esoh=False)\n",
    "    else:\n",
    "        sim.solve()\n",
    "    solution = sim.solution\n",
    "\n",
    "    # defining the summary variables\n",
    "    if config[\"chemistry\"] == pybamm.parameter_sets.Ai2020:\n",
    "        vars_to_plot = [\n",
    "            \"Measured capacity [A.h]\",\n",
    "            \"Loss of lithium inventory [%]\",\n",
    "            \"Loss of active material in negative electrode [%]\",\n",
    "            \"Loss of active material in positive electrode [%]\",\n",
    "        ]\n",
    "    else:\n",
    "        vars_to_plot = [\n",
    "            \"Capacity [A.h]\",\n",
    "            \"Loss of lithium inventory [%]\",\n",
    "            \"Loss of active material in negative electrode [%]\",\n",
    "            \"Loss of active material in positive electrode [%]\",\n",
    "            \"x_100\",\n",
    "            \"x_0\",\n",
    "            \"y_100\",\n",
    "            \"y_0\",\n",
    "        ]\n",
    "\n",
    "    length = len(vars_to_plot)\n",
    "    n = int(length // np.sqrt(length))\n",
    "    m = int(np.ceil(length / n))\n",
    "\n",
    "    # plotting the summary variables\n",
    "    fig, axes = plt.subplots(n, m, figsize=(15, 8))\n",
    "    for var, ax in zip(vars_to_plot, axes.flat):\n",
    "        ax.plot(\n",
    "            solution.summary_variables[\"Cycle number\"],\n",
    "            solution.summary_variables[var]\n",
    "        )\n",
    "        ax.set_xlabel(\"Cycle number\")\n",
    "        ax.set_ylabel(var)\n",
    "        ax.set_xlim([1, solution.summary_variables[\"Cycle number\"][-1]])\n",
    "    fig.tight_layout()\n",
    "    plt.show()\n"
   ]
  },
  {
   "source": [
    "The following cell is meant to create a slider plot for the configurations with no experiment, you can skip this if the latest tweeted GIF had no experiment. (Note: running the cell won't make a difference if the last tweet was not about comparing models with no experiment and with different configurations)"
   ],
   "cell_type": "markdown",
   "metadata": {}
  },
  {
   "cell_type": "code",
   "execution_count": 5,
   "metadata": {
    "tags": []
   },
   "outputs": [
    {
     "output_type": "stream",
     "name": "stderr",
     "text": [
      "2021-08-06 20:59:00,274 - [INFO] <ipython-input-5-c8a37ea25e7e>.<module>(33): Positive electrode exchange-current density [A.m-2]: 1.44\n",
      "2021-08-06 20:59:00,274 - [INFO] <ipython-input-5-c8a37ea25e7e>.<module>(33): Positive electrode exchange-current density [A.m-2]: 1.04\n",
      "2021-08-06 20:59:00,274 - [INFO] <ipython-input-5-c8a37ea25e7e>.<module>(33): Positive electrode exchange-current density [A.m-2]: 1.53\n"
     ]
    },
    {
     "output_type": "display_data",
     "data": {
      "text/plain": "interactive(children=(FloatSlider(value=0.0, description='t', max=1.0061659297644743, step=0.01006165929764474…",
      "application/vnd.jupyter.widget-view+json": {
       "version_major": 2,
       "version_minor": 0,
       "model_id": "ecba4acdfcf74b148a91d1effb3bd2fa"
      }
     },
     "metadata": {}
    }
   ],
   "source": [
    "# if it is a comparison plot but has no experiment\n",
    "if config[\"is_comparison\"] and not config[\"is_experiment\"]:\n",
    "\n",
    "    # declaring the parameter values\n",
    "    parameter_values = pybamm.ParameterValues(chemistry=config[\"chemistry\"])\n",
    "    param_list = []\n",
    "    labels = []\n",
    "\n",
    "    if isinstance(param_values, dict):\n",
    "        parameter_values[\"Ambient temperature [K]\"] = param_values[\"Ambient temperature [K]\"]\n",
    "        parameter_values[\"Current function [A]\"] = param_values[\"Current function [A]\"]\n",
    "    else:\n",
    "        # if the param_value list is populated then vary the parameter\n",
    "        for i in range(0, len(param_values)):\n",
    "            # copy the original values and append them in the list\n",
    "            param_list.append(parameter_values.copy())\n",
    "\n",
    "            # change a parameter value\n",
    "            if callable(param_list[i][config[\"param_to_vary\"]]):\n",
    "                param_list[i][\n",
    "                    config[\"param_to_vary\"]\n",
    "                ] = FunctionLike(\n",
    "                    param_list[i][\n",
    "                        config[\"param_to_vary\"]\n",
    "                    ],\n",
    "                    param_values[i]\n",
    "                )\n",
    "            else:\n",
    "                param_list[i][\n",
    "                    config[\"param_to_vary\"]\n",
    "                ] = param_values[i]\n",
    "\n",
    "            logger.info(\n",
    "                config[\"param_to_vary\"] + \": \" + str(param_values[i])\n",
    "            )\n",
    "\n",
    "            labels.append(config[\"param_to_vary\"] + \": \" + str(param_values[i]))\n",
    "\n",
    "    # find the minimum value if \"Current function [A]\" is varied\n",
    "    if config[\"param_to_vary\"] == \"Current function [A]\":\n",
    "        min_param_value = min(config[\"param_to_vary\"])\n",
    "    \n",
    "    if \"Current function [A]\" in param_values:\n",
    "        min_param_value = param_values[\"Current function [A]\"]\n",
    "\n",
    "    models_for_comp = dict(list(enumerate(models)))\n",
    "    if len(param_list) != 0:\n",
    "        parameter_values_for_comp = dict(list(enumerate(param_list)))\n",
    "    else:\n",
    "        parameter_values_for_comp = dict(list(enumerate([parameter_values])))\n",
    "\n",
    "    # using BatchStudy for the comparison plots\n",
    "    s = pybamm.BatchStudy(\n",
    "            models=models_for_comp,\n",
    "            parameter_values=parameter_values_for_comp,\n",
    "            permutations=True,\n",
    "    )\n",
    "\n",
    "    # changing the t_eval if \"Current function [A]\" is being varied\n",
    "    if config[\"param_to_vary\"] == \"Current function [A]\" or \"Current function [A]\" in param_values:\n",
    "        factor = min_param_value / parameter_values[\"Current function [A]\"]\n",
    "        t_end = (1 / factor * 1.1) * 3600\n",
    "    else:\n",
    "        # default t_end\n",
    "        t_end = 3700\n",
    "\n",
    "    # solving\n",
    "    if config[\"chemistry\"] == pybamm.parameter_sets.Ai2020:\n",
    "        s.solve([0, t_end], calc_esoh=False)\n",
    "    else:\n",
    "        s.solve([0, t_end])\n",
    "\n",
    "    # plotting\n",
    "    if len(param_list) != 0:\n",
    "        s.plot(labels=labels)\n",
    "    else:\n",
    "        s.plot()"
   ]
  },
  {
   "source": [
    "The following cell is meant to create a slider plot for the configurations with experiment, you can skip this if the latest tweeted GIF had no experiment. (Note: running the cell won't make a difference if the last tweet was not about comparing a single experiment with different configurations)"
   ],
   "cell_type": "markdown",
   "metadata": {}
  },
  {
   "cell_type": "code",
   "execution_count": 6,
   "metadata": {},
   "outputs": [],
   "source": [
    "# if it is a comparison plot and has an experiment\n",
    "if config[\"is_comparison\"] and config[\"is_experiment\"]:\n",
    "\n",
    "    # declaring the parameter values\n",
    "    parameter_values = pybamm.ParameterValues(chemistry=config[\"chemistry\"])\n",
    "    param_list = []\n",
    "    labels = []\n",
    "\n",
    "    # if the param_value list is populated then vary the parameter\n",
    "    if isinstance(param_values, dict):\n",
    "        parameter_values[\"Ambient temperature [K]\"] = param_values[\"Ambient temperature [K]\"]\n",
    "    else:\n",
    "        for i in range(0, len(param_values)):\n",
    "            # copy the original values and append them in the list\n",
    "            param_list.append(parameter_values.copy())\n",
    "\n",
    "            # change a parameter value\n",
    "            if callable(param_list[i][config[\"param_to_vary\"]]):\n",
    "                param_list[i][\n",
    "                    config[\"param_to_vary\"]\n",
    "                ] *= param_values[i]\n",
    "            else:\n",
    "                param_list[i][\n",
    "                    config[\"param_to_vary\"]\n",
    "                ] = param_values[i]\n",
    "\n",
    "            logger.info(\n",
    "                config[\"param_to_vary\"] + \": \" + str(param_values[i])\n",
    "            )\n",
    "\n",
    "            labels.append(config[\"param_to_vary\"] + \": \" + str(param_values[i]))\n",
    "\n",
    "    models_for_comp = dict(list(enumerate(models)))\n",
    "    experiment = dict(\n",
    "        list(\n",
    "            enumerate(\n",
    "                [\n",
    "                    pybamm.Experiment(\n",
    "                        config[\"cycle\"] * config[\"number\"]\n",
    "                    )\n",
    "                ]\n",
    "            )\n",
    "        )\n",
    "    )\n",
    "    \n",
    "    # using BatchStudy for the comparison plots\n",
    "    if len(param_list) != 0:\n",
    "        parameter_values_for_comp = dict(list(enumerate(param_list)))\n",
    "    else:\n",
    "        parameter_values_for_comp = dict(list(enumerate([parameter_values])))\n",
    "    s = pybamm.BatchStudy(\n",
    "            models=models_for_comp,\n",
    "            parameter_values=parameter_values_for_comp,\n",
    "            experiments=experiment,\n",
    "            permutations=True,\n",
    "    )\n",
    "\n",
    "    # solving\n",
    "    if config[\"chemistry\"] == pybamm.parameter_sets.Ai2020:\n",
    "        s.solve(calc_esoh=False)\n",
    "    else:\n",
    "        s.solve()\n",
    "\n",
    "    # plotting\n",
    "    if len(param_list) != 0:\n",
    "        s.plot(labels=labels)\n",
    "    else:\n",
    "        s.plot()"
   ]
  },
  {
   "cell_type": "code",
   "execution_count": 7,
   "metadata": {},
   "outputs": [
    {
     "output_type": "stream",
     "name": "stdout",
     "text": [
      "[1] Joel A. E. Andersson, Joris Gillis, Greg Horn, James B. Rawlings, and Moritz Diehl. CasADi – A software framework for nonlinear optimization and optimal control. Mathematical Programming Computation, 11(1):1–36, 2019. doi:10.1007/s12532-018-0139-4.\n[2] Charles R. Harris, K. Jarrod Millman, Stéfan J. van der Walt, Ralf Gommers, Pauli Virtanen, David Cournapeau, Eric Wieser, Julian Taylor, Sebastian Berg, Nathaniel J. Smith, and others. Array programming with NumPy. Nature, 585(7825):357–362, 2020. doi:10.1038/s41586-020-2649-2.\n[3] Scott G. Marquis, Valentin Sulzer, Robert Timms, Colin P. Please, and S. Jon Chapman. An asymptotic derivation of a single particle model with electrolyte. Journal of The Electrochemical Society, 166(15):A3693–A3706, 2019. doi:10.1149/2.0341915jes.\n[4] Valentin Sulzer, Scott G. Marquis, Robert Timms, Martin Robinson, and S. Jon Chapman. Python Battery Mathematical Modelling (PyBaMM). Journal of Open Research Software, 9(1):14, 2021. doi:10.5334/jors.309.\n\n"
     ]
    }
   ],
   "source": [
    "pybamm.print_citations()"
   ]
  }
 ]
}