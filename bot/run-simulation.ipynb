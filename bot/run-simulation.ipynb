{
 "metadata": {
  "language_info": {
   "codemirror_mode": {
    "name": "ipython",
    "version": 3
   },
   "file_extension": ".py",
   "mimetype": "text/x-python",
   "name": "python",
   "nbconvert_exporter": "python",
   "pygments_lexer": "ipython3",
   "version": "3.9.0"
  },
  "orig_nbformat": 2,
  "kernelspec": {
   "name": "python3",
   "display_name": "Python 3.9.0 64-bit",
   "metadata": {
    "interpreter": {
     "hash": "8e473b7b27fd32c4f175591765ae7218e26352aafc6eb4399ae3355663397de4"
    }
   }
  }
 },
 "nbformat": 4,
 "nbformat_minor": 2,
 "cells": [
  {
   "source": [
    "# Running the Tweeted Configurations\n",
    "\n",
    "This notebook runs the latest tweeted battery model configuration, and can also be modified and played with. The notebook requires no user input (unless you want to modify some stuff).\n",
    "\n",
    "Access this on Google Colab [here](https://colab.research.google.com/github/Saransh-cpp/PyBaMM-Twitter-Bot/blob/main/bot/run-simulation.ipynb)."
   ],
   "cell_type": "markdown",
   "metadata": {}
  },
  {
   "cell_type": "code",
   "execution_count": 1,
   "metadata": {},
   "outputs": [
    {
     "output_type": "stream",
     "name": "stdout",
     "text": [
      "Note: you may need to restart the kernel to use updated packages.\n",
      "ERROR: Invalid requirement: '#'\n",
      "WARNING: You are using pip version 21.1.2; however, version 21.1.3 is available.\n",
      "You should consider upgrading via the 'c:\\users\\saransh\\saransh_softwares\\python_3.9\\python.exe -m pip install --upgrade pip' command.\n"
     ]
    }
   ],
   "source": [
    "%pip install git+https://github.com/pybamm-team/PyBaMM@develop  # install the develop branch of PyBaMM\n",
    "import os\n",
    "import pybamm\n",
    "import logging\n",
    "import requests\n",
    "import numpy as np\n",
    "import matplotlib.pyplot as plt\n",
    "\n",
    "\n",
    "# logging configs\n",
    "logging.basicConfig(level=logging.INFO)\n",
    "logger = logging.getLogger()\n",
    "logger.setLevel(logging.INFO)\n"
   ]
  },
  {
   "source": [
    "We start by opening config.txt, where the most recent tweeted configuration is stored. Next we read that data and convert it into a python dictionary."
   ],
   "cell_type": "markdown",
   "metadata": {}
  },
  {
   "cell_type": "code",
   "execution_count": 2,
   "metadata": {},
   "outputs": [
    {
     "output_type": "execute_result",
     "data": {
      "text/plain": [
       "{'model': '{0: <pybamm.models.full_battery_models.lithium_ion.dfn.DFN object at 0x000001F8989BD5B0>, 1: <pybamm.models.full_battery_models.lithium_ion.spm.SPM object at 0x000001F899030730>, 2: <pybamm.models.full_battery_models.lithium_ion.spme.SPMe object at 0x000001F899423970>}',\n",
       " 'model options': None,\n",
       " 'chemistry': {'chemistry': 'lithium_ion',\n",
       "  'cell': 'Enertech_Ai2020',\n",
       "  'negative electrode': 'graphite_Ai2020',\n",
       "  'separator': 'separator_Ai2020',\n",
       "  'positive electrode': 'lico2_Ai2020',\n",
       "  'electrolyte': 'lipf6_Enertech_Ai2020',\n",
       "  'experiment': '1C_discharge_from_full_Ai2020',\n",
       "  'sei': 'example',\n",
       "  'citation': 'Ai2019'},\n",
       " 'is_experiment': True,\n",
       " 'cycle': [('Discharge at 3 C until 3.4 V',\n",
       "   'Rest for 10 minutes',\n",
       "   'Charge at 3 C until 4.1 V',\n",
       "   'Hold at 4.1 V until 21 mA',\n",
       "   'Rest for 1 minutes')],\n",
       " 'number': 2,\n",
       " 'is_comparison': True,\n",
       " 'param_to_vary': None,\n",
       " 'varied_values': []}"
      ]
     },
     "metadata": {},
     "execution_count": 2
    }
   ],
   "source": [
    "# open the file and read the python dictionary for configurations\n",
    "url = \"https://raw.githubusercontent.com/Saransh-cpp/PyBaMM-Twitter-Bot/main/bot/config.txt\"\n",
    "r = requests.get(url, allow_redirects=True)\n",
    "open('config.txt', 'wb').write(r.content)\n",
    "f = open('config.txt', 'r')\n",
    "config = eval(f.read())\n",
    "\n",
    "# varied parameter values, you can play with them too\n",
    "param_values = config[\"varied_values\"]\n",
    "\n",
    "# extracting the models from \"config\" dictionary\n",
    "models = []\n",
    "if \"DFN\" in config[\"model\"]:\n",
    "    models.append(pybamm.lithium_ion.DFN(\n",
    "        options=config[\"model options\"]\n",
    "    ))\n",
    "if \"spm.SPM\" in config[\"model\"]:\n",
    "    models.append(pybamm.lithium_ion.SPM(\n",
    "        options=config[\"model options\"]\n",
    "    ))\n",
    "if \"spme.SPMe\" in config[\"model\"]:\n",
    "    models.append(pybamm.lithium_ion.SPMe(\n",
    "        options=config[\"model options\"]\n",
    "    ))\n",
    "\n",
    "# closing the file\n",
    "f.close()\n",
    "config\n",
    "# here you can update the config dictionary by doing something like this -\n",
    "# config.update({\n",
    "#   \"key\": value \n",
    "# })\n",
    "# the default dictionary which changes everytime a plot is tweeted is printed below"
   ]
  },
  {
   "source": [
    "The following cell is meant to plot summary variables, if they weren't tweeted in the latest tweet then you can skip this. (Note: running the cell won't make a difference if the last tweet was not about summary variables)"
   ],
   "cell_type": "markdown",
   "metadata": {}
  },
  {
   "cell_type": "code",
   "execution_count": 3,
   "metadata": {
    "tags": []
   },
   "outputs": [],
   "source": [
    "pybamm.set_logging_level(\"NOTICE\")\n",
    "\n",
    "# if summary variables were tweeted\n",
    "if config[\"is_experiment\"] and not config[\"is_comparison\"]:\n",
    "\n",
    "    # don't terminate early if Ai2020 parameter sets were used\n",
    "    if config[\"chemistry\"] == pybamm.parameter_sets.Ai2020:\n",
    "        experiment = pybamm.Experiment(\n",
    "            config[\"cycle\"] * config[\"number\"]\n",
    "        )\n",
    "    else:\n",
    "        experiment = pybamm.Experiment(\n",
    "            config[\"cycle\"] * config[\"number\"], termination=\"80% capacity\"\n",
    "        )\n",
    "\n",
    "    # defining parameter_values\n",
    "    parameter_values = pybamm.ParameterValues(chemistry=config[\"chemistry\"])\n",
    "\n",
    "    # simulating\n",
    "    sim = pybamm.Simulation(\n",
    "        model=models[0],\n",
    "        experiment=experiment,\n",
    "        parameter_values=parameter_values,\n",
    "        solver=pybamm.CasadiSolver(mode=\"safe\"),\n",
    "    )\n",
    "\n",
    "    # solving\n",
    "    if config[\"chemistry\"] == pybamm.parameter_sets.Ai2020:\n",
    "        sim.solve(calc_esoh=False)\n",
    "    else:\n",
    "        sim.solve()\n",
    "    solution = sim.solution\n",
    "\n",
    "    # defining the summary variables\n",
    "    if config[\"chemistry\"] == pybamm.parameter_sets.Ai2020:\n",
    "        vars_to_plot = [\n",
    "            \"Measured capacity [A.h]\",\n",
    "            \"Loss of lithium inventory [%]\",\n",
    "            \"Loss of active material in negative electrode [%]\",\n",
    "            \"Loss of active material in positive electrode [%]\",\n",
    "        ]\n",
    "    else:\n",
    "        vars_to_plot = [\n",
    "            \"Capacity [A.h]\",\n",
    "            \"Loss of lithium inventory [%]\",\n",
    "            \"Loss of active material in negative electrode [%]\",\n",
    "            \"Loss of active material in positive electrode [%]\",\n",
    "            \"x_100\",\n",
    "            \"x_0\",\n",
    "            \"y_100\",\n",
    "            \"y_0\",\n",
    "        ]\n",
    "\n",
    "    length = len(vars_to_plot)\n",
    "    n = int(length // np.sqrt(length))\n",
    "    m = int(np.ceil(length / n))\n",
    "\n",
    "    # plotting the summary variables\n",
    "    fig, axes = plt.subplots(n, m, figsize=(15, 8))\n",
    "    for var, ax in zip(vars_to_plot, axes.flat):\n",
    "        ax.plot(\n",
    "            solution.summary_variables[\"Cycle number\"],\n",
    "            solution.summary_variables[var]\n",
    "        )\n",
    "        ax.set_xlabel(\"Cycle number\")\n",
    "        ax.set_ylabel(var)\n",
    "        ax.set_xlim([1, solution.summary_variables[\"Cycle number\"][-1]])\n",
    "    fig.tight_layout()\n",
    "    plt.show()\n"
   ]
  },
  {
   "source": [
    "The following cell is meant to create a slider plot for the configurations with no experiment, you can skip this if the latest tweeted GIF had no experiment. (Note: running the cell won't make a difference if the last tweet was not about comparing models with no experiment and with different configurations)"
   ],
   "cell_type": "markdown",
   "metadata": {}
  },
  {
   "cell_type": "code",
   "execution_count": 4,
   "metadata": {
    "tags": []
   },
   "outputs": [],
   "source": [
    "# if it is a comparison plot but has no experiment\n",
    "if config[\"is_comparison\"] and not config[\"is_experiment\"]:\n",
    "\n",
    "    # declaring the parameter values\n",
    "    parameter_values = pybamm.ParameterValues(chemistry=config[\"chemistry\"])\n",
    "    param_list = []\n",
    "    labels = []\n",
    "\n",
    "    # if the param_value list is populated then vary the parameter\n",
    "    for i in range(0, len(param_values)):\n",
    "        # copy the original values and append them in the list\n",
    "        param_list.append(parameter_values.copy())\n",
    "\n",
    "        # change a parameter value\n",
    "        param_list[i][\n",
    "            config[\"param_to_vary\"]\n",
    "        ] = param_values[i]\n",
    "\n",
    "        logger.info(\n",
    "            config[\"param_to_vary\"] + \": \" + str(param_values[i])\n",
    "        )\n",
    "\n",
    "        labels.append(config[\"param_to_vary\"] + \": \" + str(param_values[i]))\n",
    "\n",
    "        # find the minimum value if \"Current function [A]\" is varied\n",
    "        if config[\"param_to_vary\"] == \"Current function [A]\":\n",
    "            if config[\"param_to_vary\"] < min_param_value:\n",
    "                min_param_value = config[\"param_to_vary\"]\n",
    "\n",
    "    # convert everything to a dict for BatchStudy\n",
    "    parameter_values_for_comp = dict(\n",
    "        list(enumerate(param_list))\n",
    "    )\n",
    "    models_for_comp = dict(list(enumerate(models)))\n",
    "    if len(param_list) != 0:\n",
    "        parameter_values_for_comp = dict(list(enumerate(param_list)))\n",
    "    else:\n",
    "        parameter_values_for_comp = dict(list(enumerate([parameter_values])))\n",
    "\n",
    "    # using BatchStudy for the comparison plots\n",
    "    s = pybamm.BatchStudy(\n",
    "            models=models_for_comp,\n",
    "            parameter_values=parameter_values_for_comp,\n",
    "            permutations=True,\n",
    "    )\n",
    "\n",
    "    # changing the t_eval if \"Current function [A]\" is being varied\n",
    "    if config[\"param_to_vary\"] == \"Current function [A]\":\n",
    "        factor = min_param_value / paramameter_values[config[\"param_to_vary\"]]\n",
    "        t_end = (1 / factor * 1.1) * 3600\n",
    "    else:\n",
    "        # default t_end\n",
    "        t_end = 3700\n",
    "\n",
    "    # solving\n",
    "    if config[\"chemistry\"] == pybamm.parameter_sets.Ai2020:\n",
    "        s.solve([0, t_end], calc_esoh=False)\n",
    "    else:\n",
    "        s.solve([0, t_end])\n",
    "\n",
    "    # plotting\n",
    "    if len(param_list) != 0:\n",
    "        s.plot(labels=labels)\n",
    "    else:\n",
    "        s.plot()"
   ]
  },
  {
   "source": [
    "The following cell is meant to create a slider plot for the configurations with experiment, you can skip this if the latest tweeted GIF had no experiment. (Note: running the cell won't make a difference if the last tweet was not about comparing a single experiment with different configurations)"
   ],
   "cell_type": "markdown",
   "metadata": {}
  },
  {
   "cell_type": "code",
   "execution_count": 5,
   "metadata": {},
   "outputs": [
    {
     "output_type": "stream",
     "name": "stderr",
     "text": [
      "2021-07-02 21:59:12,072 - [NOTICE] simulation.solve(746): Cycle 1/2 (11.200 us elapsed) --------------------\n",
      "2021-07-02 21:59:12,073 - [NOTICE] simulation.solve(778): Cycle 1/2, step 1/5: Discharge at 3 C until 3.4 V\n",
      "2021-07-02 21:59:13,019 - [NOTICE] simulation.solve(778): Cycle 1/2, step 2/5: Rest for 10 minutes\n",
      "2021-07-02 21:59:13,514 - [NOTICE] simulation.solve(778): Cycle 1/2, step 3/5: Charge at 3 C until 4.1 V\n",
      "2021-07-02 21:59:14,184 - [NOTICE] simulation.solve(778): Cycle 1/2, step 4/5: Hold at 4.1 V until 21 mA\n",
      "2021-07-02 21:59:15,537 - [NOTICE] simulation.solve(778): Cycle 1/2, step 5/5: Rest for 1 minutes\n",
      "2021-07-02 21:59:15,771 - [NOTICE] simulation.solve(746): Cycle 2/2 (3.699 s elapsed) --------------------\n",
      "2021-07-02 21:59:15,773 - [NOTICE] simulation.solve(778): Cycle 2/2, step 1/5: Discharge at 3 C until 3.4 V\n",
      "2021-07-02 21:59:16,416 - [NOTICE] simulation.solve(778): Cycle 2/2, step 2/5: Rest for 10 minutes\n",
      "2021-07-02 21:59:16,917 - [NOTICE] simulation.solve(778): Cycle 2/2, step 3/5: Charge at 3 C until 4.1 V\n",
      "2021-07-02 21:59:17,323 - [NOTICE] simulation.solve(778): Cycle 2/2, step 4/5: Hold at 4.1 V until 21 mA\n",
      "2021-07-02 21:59:18,569 - [NOTICE] simulation.solve(778): Cycle 2/2, step 5/5: Rest for 1 minutes\n",
      "2021-07-02 21:59:18,762 - [NOTICE] simulation.solve(873): Finish experiment simulation, took 6.690 s\n",
      "2021-07-02 21:59:20,652 - [NOTICE] simulation.solve(746): Cycle 1/2 (9.100 us elapsed) --------------------\n",
      "2021-07-02 21:59:20,653 - [NOTICE] simulation.solve(778): Cycle 1/2, step 1/5: Discharge at 3 C until 3.4 V\n",
      "2021-07-02 21:59:20,718 - [NOTICE] simulation.solve(778): Cycle 1/2, step 2/5: Rest for 10 minutes\n",
      "2021-07-02 21:59:20,902 - [NOTICE] simulation.solve(778): Cycle 1/2, step 3/5: Charge at 3 C until 4.1 V\n",
      "2021-07-02 21:59:21,102 - [NOTICE] simulation.solve(778): Cycle 1/2, step 4/5: Hold at 4.1 V until 21 mA\n",
      "2021-07-02 21:59:21,456 - [NOTICE] simulation.solve(778): Cycle 1/2, step 5/5: Rest for 1 minutes\n",
      "2021-07-02 21:59:21,740 - [NOTICE] simulation.solve(746): Cycle 2/2 (1.088 s elapsed) --------------------\n",
      "2021-07-02 21:59:21,742 - [NOTICE] simulation.solve(778): Cycle 2/2, step 1/5: Discharge at 3 C until 3.4 V\n",
      "2021-07-02 21:59:22,016 - [NOTICE] simulation.solve(778): Cycle 2/2, step 2/5: Rest for 10 minutes\n",
      "2021-07-02 21:59:22,368 - [NOTICE] simulation.solve(778): Cycle 2/2, step 3/5: Charge at 3 C until 4.1 V\n",
      "2021-07-02 21:59:22,525 - [NOTICE] simulation.solve(778): Cycle 2/2, step 4/5: Hold at 4.1 V until 21 mA\n",
      "2021-07-02 21:59:22,712 - [NOTICE] simulation.solve(778): Cycle 2/2, step 5/5: Rest for 1 minutes\n",
      "2021-07-02 21:59:22,844 - [NOTICE] simulation.solve(873): Finish experiment simulation, took 2.191 s\n",
      "2021-07-02 21:59:25,742 - [NOTICE] simulation.solve(746): Cycle 1/2 (6.000 us elapsed) --------------------\n",
      "2021-07-02 21:59:25,743 - [NOTICE] simulation.solve(778): Cycle 1/2, step 1/5: Discharge at 3 C until 3.4 V\n",
      "2021-07-02 21:59:25,824 - [NOTICE] simulation.solve(778): Cycle 1/2, step 2/5: Rest for 10 minutes\n",
      "2021-07-02 21:59:26,004 - [NOTICE] simulation.solve(778): Cycle 1/2, step 3/5: Charge at 3 C until 4.1 V\n",
      "2021-07-02 21:59:26,215 - [NOTICE] simulation.solve(778): Cycle 1/2, step 4/5: Hold at 4.1 V until 21 mA\n",
      "2021-07-02 21:59:26,723 - [NOTICE] simulation.solve(778): Cycle 1/2, step 5/5: Rest for 1 minutes\n",
      "2021-07-02 21:59:26,920 - [NOTICE] simulation.solve(746): Cycle 2/2 (1.178 s elapsed) --------------------\n",
      "2021-07-02 21:59:26,921 - [NOTICE] simulation.solve(778): Cycle 2/2, step 1/5: Discharge at 3 C until 3.4 V\n",
      "2021-07-02 21:59:27,080 - [NOTICE] simulation.solve(778): Cycle 2/2, step 2/5: Rest for 10 minutes\n",
      "2021-07-02 21:59:27,231 - [NOTICE] simulation.solve(778): Cycle 2/2, step 3/5: Charge at 3 C until 4.1 V\n",
      "2021-07-02 21:59:27,644 - [NOTICE] simulation.solve(778): Cycle 2/2, step 4/5: Hold at 4.1 V until 21 mA\n",
      "2021-07-02 21:59:28,014 - [NOTICE] simulation.solve(778): Cycle 2/2, step 5/5: Rest for 1 minutes\n",
      "2021-07-02 21:59:28,171 - [NOTICE] simulation.solve(873): Finish experiment simulation, took 2.430 s\n"
     ]
    },
    {
     "output_type": "display_data",
     "data": {
      "text/plain": "interactive(children=(FloatSlider(value=0.0, description='t', max=2.7727716578743573, step=0.02772771657874357…",
      "application/vnd.jupyter.widget-view+json": {
       "version_major": 2,
       "version_minor": 0,
       "model_id": "4b9f81a0c4c5437c824db4efda66e544"
      }
     },
     "metadata": {}
    }
   ],
   "source": [
    "# if it is a comparison plot and has an experiment\n",
    "if config[\"is_comparison\"] and config[\"is_experiment\"]:\n",
    "\n",
    "    # declaring the parameter values\n",
    "    parameter_values = pybamm.ParameterValues(chemistry=config[\"chemistry\"])\n",
    "    param_list = []\n",
    "    labels = []\n",
    "\n",
    "    # if the param_value list is populated then vary the parameter\n",
    "    for i in range(0, len(param_values)):\n",
    "        # copy the original values and append them in the list\n",
    "        param_list.append(parameter_values.copy())\n",
    "\n",
    "        # change a parameter value\n",
    "        param_list[i][\n",
    "            config[\"param_to_vary\"]\n",
    "        ] = param_values[i]\n",
    "\n",
    "        logger.info(\n",
    "            config[\"param_to_vary\"] + \": \" + str(param_values[i])\n",
    "        )\n",
    "\n",
    "        labels.append(config[\"param_to_vary\"] + \": \" + str(param_values[i]))\n",
    "\n",
    "    # convert everything to a dict for BatchStudy\n",
    "    parameter_values_for_comp = dict(\n",
    "        list(enumerate(param_list))\n",
    "    )\n",
    "    models_for_comp = dict(list(enumerate(models)))\n",
    "    experiment = dict(\n",
    "        list(\n",
    "            enumerate(\n",
    "                [\n",
    "                    pybamm.Experiment(\n",
    "                        config[\"cycle\"] * config[\"number\"]\n",
    "                    )\n",
    "                ]\n",
    "            )\n",
    "        )\n",
    "    )\n",
    "    \n",
    "    # using BatchStudy for the comparison plots\n",
    "    if len(param_list) != 0:\n",
    "        parameter_values_for_comp = dict(list(enumerate(param_list)))\n",
    "    else:\n",
    "        parameter_values_for_comp = dict(list(enumerate([parameter_values])))\n",
    "    s = pybamm.BatchStudy(\n",
    "            models=models_for_comp,\n",
    "            parameter_values=parameter_values_for_comp,\n",
    "            experiments=experiment,\n",
    "            permutations=True,\n",
    "    )\n",
    "\n",
    "    # solving\n",
    "    if config[\"chemistry\"] == pybamm.parameter_sets.Ai2020:\n",
    "        s.solve(calc_esoh=False)\n",
    "    else:\n",
    "        s.solve()\n",
    "\n",
    "    # plotting\n",
    "    if len(param_list) != 0:\n",
    "        s.plot(labels=labels)\n",
    "    else:\n",
    "        s.plot()"
   ]
  },
  {
   "cell_type": "code",
   "execution_count": 6,
   "metadata": {},
   "outputs": [
    {
     "output_type": "stream",
     "name": "stdout",
     "text": [
      "[1] Weilong Ai, Ludwig Kraft, Johannes Sturm, Andreas Jossen, and Billy Wu. Electrochemical thermal-mechanical modelling of stress inhomogeneity in lithium-ion pouch cells. Journal of The Electrochemical Society, 167(1):013512, 2019. doi:10.1149/2.0122001JES.\n[2] Joel A. E. Andersson, Joris Gillis, Greg Horn, James B. Rawlings, and Moritz Diehl. CasADi – A software framework for nonlinear optimization and optimal control. Mathematical Programming Computation, 11(1):1–36, 2019. doi:10.1007/s12532-018-0139-4.\n[3] Marc Doyle, Thomas F. Fuller, and John Newman. Modeling of galvanostatic charge and discharge of the lithium/polymer/insertion cell. Journal of the Electrochemical society, 140(6):1526–1533, 1993. doi:10.1149/1.2221597.\n[4] Charles R. Harris, K. Jarrod Millman, Stéfan J. van der Walt, Ralf Gommers, Pauli Virtanen, David Cournapeau, Eric Wieser, Julian Taylor, Sebastian Berg, Nathaniel J. Smith, and others. Array programming with NumPy. Nature, 585(7825):357–362, 2020. doi:10.1038/s41586-020-2649-2.\n[5] Scott G. Marquis, Valentin Sulzer, Robert Timms, Colin P. Please, and S. Jon Chapman. An asymptotic derivation of a single particle model with electrolyte. Journal of The Electrochemical Society, 166(15):A3693–A3706, 2019. doi:10.1149/2.0341915jes.\n[6] Valentin Sulzer, Scott G. Marquis, Robert Timms, Martin Robinson, and S. Jon Chapman. Python Battery Mathematical Modelling (PyBaMM). ECSarXiv. February, 2020. doi:10.1149/osf.io/67ckj.\n\n"
     ]
    }
   ],
   "source": [
    "pybamm.print_citations()"
   ]
  }
 ]
}